{
  "nbformat": 4,
  "nbformat_minor": 0,
  "metadata": {
    "kernelspec": {
      "name": "python3",
      "display_name": "Python 3"
    },
    "language_info": {
      "codemirror_mode": {
        "name": "ipython",
        "version": 3
      },
      "file_extension": ".py",
      "mimetype": "text/x-python",
      "name": "python",
      "nbconvert_exporter": "python",
      "pygments_lexer": "ipython3",
      "version": "3.7.3"
    },
    "colab": {
      "name": "simple_mnist_classifier_exercise.ipynb",
      "provenance": []
    },
    "accelerator": "GPU"
  },
  "cells": [
    {
      "cell_type": "markdown",
      "metadata": {
        "id": "b_WN2ogvy7YO",
        "colab_type": "text"
      },
      "source": [
        "# 0. Introduction"
      ]
    },
    {
      "cell_type": "markdown",
      "metadata": {
        "id": "jRXzghzty7YQ",
        "colab_type": "text"
      },
      "source": [
        "Example based on: Deep Learning with Python by Francois Chollet:\n",
        "https://www.manning.com/books/deep-learning-with-python\n",
        "\n",
        "If you need help using the Keras framework: check out the docs at: https://keras.io/"
      ]
    },
    {
      "cell_type": "code",
      "metadata": {
        "id": "U3auaKeiy7YR",
        "colab_type": "code",
        "outputId": "119ac2cf-fac4-4ff6-bd86-0e03ccb9885c",
        "colab": {
          "base_uri": "https://localhost:8080/",
          "height": 377
        }
      },
      "source": [
        "!pip install tensorflow"
      ],
      "execution_count": 0,
      "outputs": [
        {
          "output_type": "stream",
          "text": [
            "Requirement already satisfied: tensorflow in /usr/local/lib/python3.6/dist-packages (1.14.0)\n",
            "Requirement already satisfied: keras-applications>=1.0.6 in /usr/local/lib/python3.6/dist-packages (from tensorflow) (1.0.8)\n",
            "Requirement already satisfied: numpy<2.0,>=1.14.5 in /usr/local/lib/python3.6/dist-packages (from tensorflow) (1.16.5)\n",
            "Requirement already satisfied: tensorflow-estimator<1.15.0rc0,>=1.14.0rc0 in /usr/local/lib/python3.6/dist-packages (from tensorflow) (1.14.0)\n",
            "Requirement already satisfied: google-pasta>=0.1.6 in /usr/local/lib/python3.6/dist-packages (from tensorflow) (0.1.7)\n",
            "Requirement already satisfied: keras-preprocessing>=1.0.5 in /usr/local/lib/python3.6/dist-packages (from tensorflow) (1.1.0)\n",
            "Requirement already satisfied: gast>=0.2.0 in /usr/local/lib/python3.6/dist-packages (from tensorflow) (0.3.2)\n",
            "Requirement already satisfied: wheel>=0.26 in /usr/local/lib/python3.6/dist-packages (from tensorflow) (0.33.6)\n",
            "Requirement already satisfied: termcolor>=1.1.0 in /usr/local/lib/python3.6/dist-packages (from tensorflow) (1.1.0)\n",
            "Requirement already satisfied: tensorboard<1.15.0,>=1.14.0 in /usr/local/lib/python3.6/dist-packages (from tensorflow) (1.14.0)\n",
            "Requirement already satisfied: wrapt>=1.11.1 in /usr/local/lib/python3.6/dist-packages (from tensorflow) (1.11.2)\n",
            "Requirement already satisfied: absl-py>=0.7.0 in /usr/local/lib/python3.6/dist-packages (from tensorflow) (0.8.0)\n",
            "Requirement already satisfied: six>=1.10.0 in /usr/local/lib/python3.6/dist-packages (from tensorflow) (1.12.0)\n",
            "Requirement already satisfied: astor>=0.6.0 in /usr/local/lib/python3.6/dist-packages (from tensorflow) (0.8.0)\n",
            "Requirement already satisfied: grpcio>=1.8.6 in /usr/local/lib/python3.6/dist-packages (from tensorflow) (1.15.0)\n",
            "Requirement already satisfied: protobuf>=3.6.1 in /usr/local/lib/python3.6/dist-packages (from tensorflow) (3.7.1)\n",
            "Requirement already satisfied: h5py in /usr/local/lib/python3.6/dist-packages (from keras-applications>=1.0.6->tensorflow) (2.8.0)\n",
            "Requirement already satisfied: setuptools>=41.0.0 in /usr/local/lib/python3.6/dist-packages (from tensorboard<1.15.0,>=1.14.0->tensorflow) (41.2.0)\n",
            "Requirement already satisfied: werkzeug>=0.11.15 in /usr/local/lib/python3.6/dist-packages (from tensorboard<1.15.0,>=1.14.0->tensorflow) (0.16.0)\n",
            "Requirement already satisfied: markdown>=2.6.8 in /usr/local/lib/python3.6/dist-packages (from tensorboard<1.15.0,>=1.14.0->tensorflow) (3.1.1)\n"
          ],
          "name": "stdout"
        }
      ]
    },
    {
      "cell_type": "code",
      "metadata": {
        "id": "NPxo--TAy7YV",
        "colab_type": "code",
        "outputId": "e113cac2-5803-43ff-f940-57c8ecc449fb",
        "colab": {
          "base_uri": "https://localhost:8080/",
          "height": 173
        }
      },
      "source": [
        "!pip install keras"
      ],
      "execution_count": 0,
      "outputs": [
        {
          "output_type": "stream",
          "text": [
            "Requirement already satisfied: keras in /usr/local/lib/python3.6/dist-packages (2.2.5)\n",
            "Requirement already satisfied: six>=1.9.0 in /usr/local/lib/python3.6/dist-packages (from keras) (1.12.0)\n",
            "Requirement already satisfied: scipy>=0.14 in /usr/local/lib/python3.6/dist-packages (from keras) (1.3.1)\n",
            "Requirement already satisfied: keras-applications>=1.0.8 in /usr/local/lib/python3.6/dist-packages (from keras) (1.0.8)\n",
            "Requirement already satisfied: numpy>=1.9.1 in /usr/local/lib/python3.6/dist-packages (from keras) (1.16.5)\n",
            "Requirement already satisfied: keras-preprocessing>=1.1.0 in /usr/local/lib/python3.6/dist-packages (from keras) (1.1.0)\n",
            "Requirement already satisfied: pyyaml in /usr/local/lib/python3.6/dist-packages (from keras) (3.13)\n",
            "Requirement already satisfied: h5py in /usr/local/lib/python3.6/dist-packages (from keras) (2.8.0)\n"
          ],
          "name": "stdout"
        }
      ]
    },
    {
      "cell_type": "code",
      "metadata": {
        "id": "2-_a9y0uy7YY",
        "colab_type": "code",
        "colab": {}
      },
      "source": [
        "import keras\n",
        "from keras import models\n",
        "from keras import layers\n",
        "from keras import optimizers\n",
        "from keras.layers import Dropout\n",
        "from keras.layers.normalization import BatchNormalization\n",
        "from keras.regularizers import l2\n",
        "from keras.datasets import mnist\n",
        "from keras.utils import to_categorical\n",
        "import matplotlib.pyplot as plt"
      ],
      "execution_count": 0,
      "outputs": []
    },
    {
      "cell_type": "markdown",
      "metadata": {
        "id": "PENiV8Sdy7Yb",
        "colab_type": "text"
      },
      "source": [
        "# 1. Load data"
      ]
    },
    {
      "cell_type": "markdown",
      "metadata": {
        "id": "tbyrox6yy7Yc",
        "colab_type": "text"
      },
      "source": [
        "The MNIST database of handwritten digit has a training set of 60,000 examples, and a test set of 10,000 examples. It is a subset of a larger set available from NIST. The digits have been size-normalized and centered in a fixed-size image.\n",
        "It is a good database for people who want to try learning techniques and pattern recognition methods on real-world data while spending minimal efforts on preprocessing and formatting."
      ]
    },
    {
      "cell_type": "code",
      "metadata": {
        "id": "3KDkmwZXy7Yc",
        "colab_type": "code",
        "outputId": "8061906c-8de9-4e5d-d113-9d07ca376f6e",
        "colab": {
          "base_uri": "https://localhost:8080/",
          "height": 51
        }
      },
      "source": [
        "(train_images, train_labels), (test_images, test_labels) = mnist.load_data()"
      ],
      "execution_count": 0,
      "outputs": [
        {
          "output_type": "stream",
          "text": [
            "Downloading data from https://s3.amazonaws.com/img-datasets/mnist.npz\n",
            "11493376/11490434 [==============================] - 1s 0us/step\n"
          ],
          "name": "stdout"
        }
      ]
    },
    {
      "cell_type": "markdown",
      "metadata": {
        "id": "qW64lDuPy7Yf",
        "colab_type": "text"
      },
      "source": [
        "# 2. Inspect data"
      ]
    },
    {
      "cell_type": "markdown",
      "metadata": {
        "id": "27lix22ey7Yf",
        "colab_type": "text"
      },
      "source": [
        "Try to get a feel for the data you are using to train and test your neural network. "
      ]
    },
    {
      "cell_type": "markdown",
      "metadata": {
        "id": "tr6fv6IVy7Yg",
        "colab_type": "text"
      },
      "source": [
        "## Training data"
      ]
    },
    {
      "cell_type": "markdown",
      "metadata": {
        "id": "vrxz3zIXy7Yh",
        "colab_type": "text"
      },
      "source": [
        "- Training data will be used to train our neural network to recognize hand-written digits.\n",
        "- MNIST provides 60000 labeled training images, each 28x28 pixels"
      ]
    },
    {
      "cell_type": "code",
      "metadata": {
        "id": "43nvOf7iy7Yh",
        "colab_type": "code",
        "outputId": "74e244f1-113f-42fd-fc35-562ec17bbe68",
        "colab": {
          "base_uri": "https://localhost:8080/",
          "height": 34
        }
      },
      "source": [
        "train_images.shape"
      ],
      "execution_count": 0,
      "outputs": [
        {
          "output_type": "execute_result",
          "data": {
            "text/plain": [
              "(60000, 28, 28)"
            ]
          },
          "metadata": {
            "tags": []
          },
          "execution_count": 6
        }
      ]
    },
    {
      "cell_type": "code",
      "metadata": {
        "id": "tOhwxkIpy7Yj",
        "colab_type": "code",
        "outputId": "3c7efc5f-3457-4aab-b1dc-2c44b8261e0d",
        "colab": {
          "base_uri": "https://localhost:8080/",
          "height": 34
        }
      },
      "source": [
        "train_labels.shape"
      ],
      "execution_count": 0,
      "outputs": [
        {
          "output_type": "execute_result",
          "data": {
            "text/plain": [
              "(60000,)"
            ]
          },
          "metadata": {
            "tags": []
          },
          "execution_count": 7
        }
      ]
    },
    {
      "cell_type": "code",
      "metadata": {
        "id": "195tnuZUy7Yl",
        "colab_type": "code",
        "colab": {}
      },
      "source": [
        "def show_image(images, labels, index):\n",
        "    img = images[index].reshape((28,28))\n",
        "    label = labels[index]\n",
        "    plt.imshow(img)\n",
        "    plt.title(label)\n",
        "    plt.show()"
      ],
      "execution_count": 0,
      "outputs": []
    },
    {
      "cell_type": "markdown",
      "metadata": {
        "id": "7IDEVGgiy7Yn",
        "colab_type": "text"
      },
      "source": [
        "# Exercise 1"
      ]
    },
    {
      "cell_type": "markdown",
      "metadata": {
        "id": "kizrADLuy7Yn",
        "colab_type": "text"
      },
      "source": [
        "Display different samples from the training set below. \n",
        "\n",
        "(You can show one index, or loop over a couple of values)"
      ]
    },
    {
      "cell_type": "code",
      "metadata": {
        "id": "VIt1MxvxFQNW",
        "colab_type": "code",
        "outputId": "0fb8bbd7-acda-40dc-e8e4-455d86a9fc45",
        "colab": {
          "base_uri": "https://localhost:8080/",
          "height": 281
        }
      },
      "source": [
        "show_image(train_images, train_labels, 800)"
      ],
      "execution_count": 0,
      "outputs": [
        {
          "output_type": "display_data",
          "data": {
            "image/png": "[encoded data removed]",
            "text/plain": [
              "<Figure size 432x288 with 1 Axes>"
            ]
          },
          "metadata": {
            "tags": []
          }
        }
      ]
    },
    {
      "cell_type": "markdown",
      "metadata": {
        "id": "4VoHW4Aty7Yo",
        "colab_type": "text"
      },
      "source": [
        "## Test data"
      ]
    },
    {
      "cell_type": "markdown",
      "metadata": {
        "id": "tjfMwHjFy7Yo",
        "colab_type": "text"
      },
      "source": [
        "- Test data will be used to validate how good our network performs on data it has never seen.\n",
        "- MNIST provides 10000 test images, each 28x28.\n",
        "- It's important to note that these should never be used in the training cycle. A 'test set' should never contain images the network has already seen during training. (read more: [Model Selection and Train/Validation/Test Sets](https://www.coursera.org/lecture/machine-learning/model-selection-and-train-validation-test-sets-QGKbr) and [How (and why) to create a good validation set](https://www.fast.ai/2017/11/13/validation-sets/))"
      ]
    },
    {
      "cell_type": "markdown",
      "metadata": {
        "id": "KLSbaWVFy7Yp",
        "colab_type": "text"
      },
      "source": [
        "# Exercise 2\n",
        "\n",
        "Print the test images and test labels shape below: "
      ]
    },
    {
      "cell_type": "code",
      "metadata": {
        "id": "QXLKxMA1y7Yr",
        "colab_type": "code",
        "outputId": "c74345cf-5ccb-42a6-ecd0-f3e59b5cd15b",
        "colab": {
          "base_uri": "https://localhost:8080/",
          "height": 281
        }
      },
      "source": [
        "show_image(test_images, test_labels, 168)"
      ],
      "execution_count": 0,
      "outputs": [
        {
          "output_type": "display_data",
          "data": {
            "image/png": "[encoded data removed]",
            "text/plain": [
              "<Figure size 432x288 with 1 Axes>"
            ]
          },
          "metadata": {
            "tags": []
          }
        }
      ]
    },
    {
      "cell_type": "markdown",
      "metadata": {
        "id": "DN_YuNaty7Yt",
        "colab_type": "text"
      },
      "source": [
        "# 3. Network architecture"
      ]
    },
    {
      "cell_type": "markdown",
      "metadata": {
        "id": "-48dO-YNy7Yt",
        "colab_type": "text"
      },
      "source": [
        "Define the network architecture that will be used for training\n",
        "\n",
        "- how many layers \n",
        "- which type of layer (we'll see more types later)\n",
        "- how many nodes in each layer\n",
        "- activation function in each layer\n"
      ]
    },
    {
      "cell_type": "markdown",
      "metadata": {
        "id": "oFaTdnHry7Yu",
        "colab_type": "text"
      },
      "source": [
        "# Exercise 3 \n",
        "\n",
        "a. Change the 'relu' activation function to 'sigmoid'. What happens? (run the cells below to see a difference in test results)\n",
        "\n",
        "b. Figure out how to add \"0.6 Dropout\" to the first layer of the network.\n",
        "\n",
        "c. What happens if you add more a BatchNorm layer, or more Dense layers?\n",
        "\n",
        "d. What happens if you add L1 or L2 regularization to the activations?\n"
      ]
    },
    {
      "cell_type": "code",
      "metadata": {
        "id": "Kic5ct9Ly7Yv",
        "colab_type": "code",
        "outputId": "154e9bb9-189f-4e81-f99f-2d09fe9cc9f9",
        "colab": {
          "base_uri": "https://localhost:8080/",
          "height": 139
        }
      },
      "source": [
        "network = models.Sequential()\n",
        "network.add(layers.Dense(512, activation='relu', input_shape=(28 * 28,)))\n",
        "\n",
        "# The final layer has 10 nodes, each node represents one class of numbers\n",
        "network.add(layers.Dense(10, activation='softmax'))"
      ],
      "execution_count": 0,
      "outputs": [
        {
          "output_type": "stream",
          "text": [
            "WARNING:tensorflow:From /usr/local/lib/python3.6/dist-packages/keras/backend/tensorflow_backend.py:66: The name tf.get_default_graph is deprecated. Please use tf.compat.v1.get_default_graph instead.\n",
            "\n",
            "WARNING:tensorflow:From /usr/local/lib/python3.6/dist-packages/keras/backend/tensorflow_backend.py:541: The name tf.placeholder is deprecated. Please use tf.compat.v1.placeholder instead.\n",
            "\n",
            "WARNING:tensorflow:From /usr/local/lib/python3.6/dist-packages/keras/backend/tensorflow_backend.py:4432: The name tf.random_uniform is deprecated. Please use tf.random.uniform instead.\n",
            "\n"
          ],
          "name": "stdout"
        }
      ]
    },
    {
      "cell_type": "code",
      "metadata": {
        "id": "sP4ZSx2vGQC8",
        "colab_type": "code",
        "colab": {}
      },
      "source": [
        "newnetwork = models.Sequential()\n",
        "newnetwork.add(Dropout(0.6))\n",
        "newnetwork.add(layers.Dense(512, kernel_regularizer=l2(0.01), activation='sigmoid', input_shape=(28 * 28,)))\n",
        "newnetwork.add(BatchNormalization())\n",
        "\n",
        "# The final layer has 10 nodes, each node represents one class of numbers\n",
        "newnetwork.add(layers.Dense(10, activation='softmax'))"
      ],
      "execution_count": 0,
      "outputs": []
    },
    {
      "cell_type": "markdown",
      "metadata": {
        "id": "9e4_VNF5y7Yw",
        "colab_type": "text"
      },
      "source": [
        "# 4. Compilation Step"
      ]
    },
    {
      "cell_type": "markdown",
      "metadata": {
        "id": "mcmDU9Biy7Yx",
        "colab_type": "text"
      },
      "source": [
        "In the compilation step we define the:\n",
        "\n",
        "- the loss function\n",
        "- the optimizer\n",
        "- the evaluation metric"
      ]
    },
    {
      "cell_type": "markdown",
      "metadata": {
        "id": "09ncq-rgy7Yy",
        "colab_type": "text"
      },
      "source": [
        "# Exercise 4\n",
        "\n",
        "Change the optimizer from \"RMSProp\" to \"Adam\" with good default values:\n",
        "\n",
        "- learning rate of 0.01\n",
        "- beta_1 of 0.9\n",
        "- beta_2 of 0.999\n",
        "- no epsilon\n",
        "- learning rate decay (annealing)\n",
        "\n",
        "Does this improve the accuracy of the test set?\n",
        "\n",
        "What happens if you change the optimizer to good old SGD? Or to Nadam? "
      ]
    },
    {
      "cell_type": "code",
      "metadata": {
        "id": "SKb2hw-Fy7Yy",
        "colab_type": "code",
        "outputId": "fc4cbee0-fa65-4b7b-c4a0-e04247052689",
        "colab": {
          "base_uri": "https://localhost:8080/",
          "height": 71
        }
      },
      "source": [
        "network.compile(optimizer='rmsprop',\n",
        "               loss='categorical_crossentropy',\n",
        "               metrics=['accuracy'])"
      ],
      "execution_count": 0,
      "outputs": [
        {
          "output_type": "stream",
          "text": [
            "WARNING:tensorflow:From /usr/local/lib/python3.6/dist-packages/keras/backend/tensorflow_backend.py:3576: The name tf.log is deprecated. Please use tf.math.log instead.\n",
            "\n"
          ],
          "name": "stdout"
        }
      ]
    },
    {
      "cell_type": "code",
      "metadata": {
        "id": "8JOrMYiBJPuU",
        "colab_type": "code",
        "colab": {}
      },
      "source": [
        "opt = optimizers.Adam(lr=0.01, beta_1=0.9, beta_2=0.999)\n",
        "newnetwork.compile(optimizer=opt,\n",
        "               loss='categorical_crossentropy',\n",
        "               metrics=['accuracy'])\n",
        "\n",
        "newnetwork.build()"
      ],
      "execution_count": 0,
      "outputs": []
    },
    {
      "cell_type": "markdown",
      "metadata": {
        "id": "3Uta6rqqy7Y3",
        "colab_type": "text"
      },
      "source": [
        "# 5. Data Preparation"
      ]
    },
    {
      "cell_type": "markdown",
      "metadata": {
        "id": "DwKyYDZqy7Y3",
        "colab_type": "text"
      },
      "source": [
        "Before feeding the data into the network for training, we make sure it is formatted properly."
      ]
    },
    {
      "cell_type": "markdown",
      "metadata": {
        "id": "tWVk0Ruwy7Y4",
        "colab_type": "text"
      },
      "source": [
        "## Prepare the images"
      ]
    },
    {
      "cell_type": "markdown",
      "metadata": {
        "id": "MZm6lEcjy7Y4",
        "colab_type": "text"
      },
      "source": [
        "### Reshape the images to vectors of integers"
      ]
    },
    {
      "cell_type": "code",
      "metadata": {
        "id": "IDb8p6YAy7Y5",
        "colab_type": "code",
        "colab": {}
      },
      "source": [
        "train_images_reshaped = train_images.reshape((60000, 28*28))\n",
        "test_images_reshaped = test_images.reshape((10000, 28*28))"
      ],
      "execution_count": 0,
      "outputs": []
    },
    {
      "cell_type": "code",
      "metadata": {
        "id": "_JB1F6z_y7Y7",
        "colab_type": "code",
        "outputId": "d68c786a-653c-4520-f127-d51f58445ef1",
        "colab": {
          "base_uri": "https://localhost:8080/",
          "height": 34
        }
      },
      "source": [
        "train_images_reshaped.shape"
      ],
      "execution_count": 0,
      "outputs": [
        {
          "output_type": "execute_result",
          "data": {
            "text/plain": [
              "(60000, 784)"
            ]
          },
          "metadata": {
            "tags": []
          },
          "execution_count": 24
        }
      ]
    },
    {
      "cell_type": "markdown",
      "metadata": {
        "id": "__GSl0rTy7Y8",
        "colab_type": "text"
      },
      "source": [
        "### Resize the values to a value between 0 and 1"
      ]
    },
    {
      "cell_type": "code",
      "metadata": {
        "id": "ly9pbOO1y7Y9",
        "colab_type": "code",
        "colab": {}
      },
      "source": [
        "train_images_transformed = train_images_reshaped.astype('float32') / 255\n",
        "test_images_transformed = test_images_reshaped.astype('float32') / 255"
      ],
      "execution_count": 0,
      "outputs": []
    },
    {
      "cell_type": "markdown",
      "metadata": {
        "id": "r_IERvTdy7ZA",
        "colab_type": "text"
      },
      "source": [
        "## Prepare the labels"
      ]
    },
    {
      "cell_type": "code",
      "metadata": {
        "id": "M4h0bqQey7ZB",
        "colab_type": "code",
        "colab": {}
      },
      "source": [
        "train_labels_categorical = to_categorical(train_labels)\n",
        "test_labels_categorical = to_categorical(test_labels)"
      ],
      "execution_count": 0,
      "outputs": []
    },
    {
      "cell_type": "code",
      "metadata": {
        "id": "ccZZuMFMy7ZC",
        "colab_type": "code",
        "outputId": "42d1bffe-53c4-47f2-f305-945829ccb765",
        "colab": {
          "base_uri": "https://localhost:8080/",
          "height": 34
        }
      },
      "source": [
        "train_labels_categorical[0]"
      ],
      "execution_count": 0,
      "outputs": [
        {
          "output_type": "execute_result",
          "data": {
            "text/plain": [
              "array([0., 0., 0., 0., 0., 1., 0., 0., 0., 0.], dtype=float32)"
            ]
          },
          "metadata": {
            "tags": []
          },
          "execution_count": 27
        }
      ]
    },
    {
      "cell_type": "markdown",
      "metadata": {
        "id": "MOGmijvNy7ZE",
        "colab_type": "text"
      },
      "source": [
        "# 6. Network summary"
      ]
    },
    {
      "cell_type": "code",
      "metadata": {
        "id": "dPSUB4Pey7ZE",
        "colab_type": "code",
        "outputId": "ed2dbdfa-41b9-485e-f0a0-2a8fb4b8704c",
        "colab": {
          "base_uri": "https://localhost:8080/",
          "height": 221
        }
      },
      "source": [
        "network.summary()"
      ],
      "execution_count": 0,
      "outputs": [
        {
          "output_type": "stream",
          "text": [
            "Model: \"sequential_1\"\n",
            "_________________________________________________________________\n",
            "Layer (type)                 Output Shape              Param #   \n",
            "=================================================================\n",
            "dense_1 (Dense)              (None, 512)               401920    \n",
            "_________________________________________________________________\n",
            "dense_2 (Dense)              (None, 10)                5130      \n",
            "=================================================================\n",
            "Total params: 407,050\n",
            "Trainable params: 407,050\n",
            "Non-trainable params: 0\n",
            "_________________________________________________________________\n"
          ],
          "name": "stdout"
        }
      ]
    },
    {
      "cell_type": "code",
      "metadata": {
        "id": "oMCw1lR9LXX8",
        "colab_type": "code",
        "outputId": "f5a61d82-1715-4f70-b256-e45c8f783055",
        "colab": {
          "base_uri": "https://localhost:8080/",
          "height": 319
        }
      },
      "source": [
        "newnetwork.build()\n",
        "newnetwork.summary()"
      ],
      "execution_count": 0,
      "outputs": [
        {
          "output_type": "error",
          "ename": "ValueError",
          "evalue": "ignored",
          "traceback": [
            "\u001b[0;31m---------------------------------------------------------------------------\u001b[0m",
            "\u001b[0;31mValueError\u001b[0m                                Traceback (most recent call last)",
            "\u001b[0;32m<ipython-input-38-df0a0ca2f7ea>\u001b[0m in \u001b[0;36m<module>\u001b[0;34m()\u001b[0m\n\u001b[1;32m      1\u001b[0m \u001b[0mnewnetwork\u001b[0m\u001b[0;34m.\u001b[0m\u001b[0mbuild\u001b[0m\u001b[0;34m(\u001b[0m\u001b[0;34m)\u001b[0m\u001b[0;34m\u001b[0m\u001b[0;34m\u001b[0m\u001b[0m\n\u001b[0;32m----> 2\u001b[0;31m \u001b[0mnewnetwork\u001b[0m\u001b[0;34m.\u001b[0m\u001b[0msummary\u001b[0m\u001b[0;34m(\u001b[0m\u001b[0;34m)\u001b[0m\u001b[0;34m\u001b[0m\u001b[0;34m\u001b[0m\u001b[0m\n\u001b[0m",
            "\u001b[0;32m/usr/local/lib/python3.6/dist-packages/keras/engine/network.py\u001b[0m in \u001b[0;36msummary\u001b[0;34m(self, line_length, positions, print_fn)\u001b[0m\n\u001b[1;32m   1305\u001b[0m         \u001b[0;32mif\u001b[0m \u001b[0;32mnot\u001b[0m \u001b[0mself\u001b[0m\u001b[0;34m.\u001b[0m\u001b[0mbuilt\u001b[0m\u001b[0;34m:\u001b[0m\u001b[0;34m\u001b[0m\u001b[0;34m\u001b[0m\u001b[0m\n\u001b[1;32m   1306\u001b[0m             raise ValueError(\n\u001b[0;32m-> 1307\u001b[0;31m                 \u001b[0;34m'This model has not yet been built. '\u001b[0m\u001b[0;34m\u001b[0m\u001b[0;34m\u001b[0m\u001b[0m\n\u001b[0m\u001b[1;32m   1308\u001b[0m                 \u001b[0;34m'Build the model first by calling build() '\u001b[0m\u001b[0;34m\u001b[0m\u001b[0;34m\u001b[0m\u001b[0m\n\u001b[1;32m   1309\u001b[0m                 \u001b[0;34m'or calling fit() with some data. '\u001b[0m\u001b[0;34m\u001b[0m\u001b[0;34m\u001b[0m\u001b[0m\n",
            "\u001b[0;31mValueError\u001b[0m: This model has not yet been built. Build the model first by calling build() or calling fit() with some data. Or specify input_shape or batch_input_shape in the first layer for automatic build. "
          ]
        }
      ]
    },
    {
      "cell_type": "markdown",
      "metadata": {
        "id": "x4yk5X9Zy7ZG",
        "colab_type": "text"
      },
      "source": [
        "# 7. Train the network"
      ]
    },
    {
      "cell_type": "markdown",
      "metadata": {
        "id": "ByLzH-XTy7ZG",
        "colab_type": "text"
      },
      "source": [
        "Feed the training images and labels to the network.\n",
        "\n",
        "Two additional parameters need to be supplied:\n",
        "\n",
        "- epochs: how many times the network will look at the entire dataset. \n",
        "- batch_size: how many images will be put through the network at one time."
      ]
    },
    {
      "cell_type": "markdown",
      "metadata": {
        "id": "61qoZy78y7ZH",
        "colab_type": "text"
      },
      "source": [
        "# Exercise 5\n",
        "\n",
        "- Can you train the network longer?\n",
        "- What happens to the training accuracy?\n",
        "- And the test accuracy?"
      ]
    },
    {
      "cell_type": "code",
      "metadata": {
        "id": "0jv11ji9y7ZH",
        "colab_type": "code",
        "outputId": "47674d7d-fb94-4c89-9859-07c95e8e318d",
        "colab": {
          "base_uri": "https://localhost:8080/",
          "height": 374
        }
      },
      "source": [
        "history = network.fit(train_images_transformed, train_labels_categorical, validation_split=0.33, epochs=10, batch_size=128)"
      ],
      "execution_count": 0,
      "outputs": [
        {
          "output_type": "stream",
          "text": [
            "Train on 40199 samples, validate on 19801 samples\n",
            "Epoch 1/10\n",
            "40199/40199 [==============================] - 2s 45us/step - loss: 0.0069 - acc: 0.9982 - val_loss: 0.0171 - val_acc: 0.9952\n",
            "Epoch 2/10\n",
            "40199/40199 [==============================] - 2s 46us/step - loss: 0.0051 - acc: 0.9988 - val_loss: 0.0124 - val_acc: 0.9965\n",
            "Epoch 3/10\n",
            "40199/40199 [==============================] - 2s 45us/step - loss: 0.0033 - acc: 0.9993 - val_loss: 0.0134 - val_acc: 0.9957\n",
            "Epoch 4/10\n",
            "40199/40199 [==============================] - 2s 46us/step - loss: 0.0026 - acc: 0.9994 - val_loss: 0.0139 - val_acc: 0.9956\n",
            "Epoch 5/10\n",
            "40199/40199 [==============================] - 2s 44us/step - loss: 0.0017 - acc: 0.9996 - val_loss: 0.0172 - val_acc: 0.9943\n",
            "Epoch 6/10\n",
            "40199/40199 [==============================] - 2s 46us/step - loss: 0.0012 - acc: 0.9998 - val_loss: 0.0186 - val_acc: 0.9947\n",
            "Epoch 7/10\n",
            "40199/40199 [==============================] - 2s 45us/step - loss: 0.0012 - acc: 0.9999 - val_loss: 0.0200 - val_acc: 0.9943\n",
            "Epoch 8/10\n",
            "40199/40199 [==============================] - 2s 45us/step - loss: 6.8287e-04 - acc: 0.9999 - val_loss: 0.0245 - val_acc: 0.9932\n",
            "Epoch 9/10\n",
            "40199/40199 [==============================] - 2s 45us/step - loss: 6.8264e-04 - acc: 0.9998 - val_loss: 0.0254 - val_acc: 0.9934\n",
            "Epoch 10/10\n",
            "40199/40199 [==============================] - 2s 44us/step - loss: 4.1041e-04 - acc: 0.9999 - val_loss: 0.0247 - val_acc: 0.9934\n"
          ],
          "name": "stdout"
        }
      ]
    },
    {
      "cell_type": "code",
      "metadata": {
        "id": "siez908hMLla",
        "colab_type": "code",
        "outputId": "933de70f-6401-48ce-e885-91e935ef0d9c",
        "colab": {
          "base_uri": "https://localhost:8080/",
          "height": 394
        }
      },
      "source": [
        "history = newnetwork.fit(train_images_transformed, train_labels_categorical, validation_split=0.33, epochs=10, batch_size=128)"
      ],
      "execution_count": 0,
      "outputs": [
        {
          "output_type": "stream",
          "text": [
            "Train on 40199 samples, validate on 19801 samples\n",
            "Epoch 1/10\n",
            "40199/40199 [==============================] - 2s 45us/step - loss: 0.8422 - acc: 0.8422 - val_loss: 0.6187 - val_acc: 0.9015\n",
            "Epoch 2/10\n",
            "40199/40199 [==============================] - 2s 46us/step - loss: 0.8753 - acc: 0.8387 - val_loss: 0.6878 - val_acc: 0.8989\n",
            "Epoch 3/10\n",
            "40199/40199 [==============================] - 2s 45us/step - loss: 0.8925 - acc: 0.8403 - val_loss: 0.6775 - val_acc: 0.9159\n",
            "Epoch 4/10\n",
            "40199/40199 [==============================] - 2s 46us/step - loss: 0.8803 - acc: 0.8371 - val_loss: 0.6283 - val_acc: 0.9108\n",
            "Epoch 5/10\n",
            "40199/40199 [==============================] - 2s 44us/step - loss: 0.9286 - acc: 0.8377 - val_loss: 0.6944 - val_acc: 0.9027\n",
            "Epoch 6/10\n",
            "40199/40199 [==============================] - 2s 47us/step - loss: 0.8656 - acc: 0.8416 - val_loss: 0.6249 - val_acc: 0.9185\n",
            "Epoch 7/10\n",
            "40199/40199 [==============================] - 2s 45us/step - loss: 0.8624 - acc: 0.8412 - val_loss: 0.6917 - val_acc: 0.8979\n",
            "Epoch 8/10\n",
            "40199/40199 [==============================] - 2s 44us/step - loss: 0.9258 - acc: 0.8369 - val_loss: 0.7180 - val_acc: 0.8897\n",
            "Epoch 9/10\n",
            "40199/40199 [==============================] - 2s 45us/step - loss: 0.8847 - acc: 0.8377 - val_loss: 0.6717 - val_acc: 0.9113\n",
            "Epoch 10/10\n",
            "40199/40199 [==============================] - 2s 44us/step - loss: 0.8662 - acc: 0.8425 - val_loss: 0.6621 - val_acc: 0.9034\n"
          ],
          "name": "stdout"
        }
      ]
    },
    {
      "cell_type": "code",
      "metadata": {
        "id": "Sr2Wo6so1dVo",
        "colab_type": "code",
        "outputId": "48d34693-8846-4f78-d6ce-5d109c1364ec",
        "colab": {
          "base_uri": "https://localhost:8080/",
          "height": 590
        }
      },
      "source": [
        "# list all data in history\n",
        "print(history.history.keys())\n",
        "# summarize history for accuracy\n",
        "plt.plot(history.history['acc'])\n",
        "plt.plot(history.history['val_acc'])\n",
        "plt.title('model accuracy')\n",
        "plt.ylabel('accuracy')\n",
        "plt.xlabel('epoch')\n",
        "plt.legend(['train', 'validation'], loc='upper left')\n",
        "plt.show()\n",
        "# summarize history for loss\n",
        "plt.plot(history.history['loss'])\n",
        "plt.plot(history.history['val_loss'])\n",
        "plt.title('model loss')\n",
        "plt.ylabel('loss')\n",
        "plt.xlabel('epoch')\n",
        "plt.legend(['train', 'validation'], loc='upper left')\n",
        "plt.show()"
      ],
      "execution_count": 0,
      "outputs": [
        {
          "output_type": "stream",
          "text": [
            "dict_keys(['val_loss', 'val_acc', 'loss', 'acc'])\n"
          ],
          "name": "stdout"
        },
        {
          "output_type": "display_data",
          "data": {
            "image/png": "[encoded data removed]",
            "text/plain": [
              "<Figure size 432x288 with 1 Axes>"
            ]
          },
          "metadata": {
            "tags": []
          }
        },
        {
          "output_type": "display_data",
          "data": {
            "image/png": "[encoded data removed]",
            "text/plain": [
              "<Figure size 432x288 with 1 Axes>"
            ]
          },
          "metadata": {
            "tags": []
          }
        }
      ]
    },
    {
      "cell_type": "markdown",
      "metadata": {
        "id": "Y-ynnMHCy7ZJ",
        "colab_type": "text"
      },
      "source": [
        "# 8. Test the network"
      ]
    },
    {
      "cell_type": "markdown",
      "metadata": {
        "id": "1s0n4A15y7ZJ",
        "colab_type": "text"
      },
      "source": [
        "Use the test set (which the network has not seen yet) to test how well the network will perform on images it has not seen yet:"
      ]
    },
    {
      "cell_type": "code",
      "metadata": {
        "id": "kcus7WVty7ZK",
        "colab_type": "code",
        "outputId": "d15b7fc9-749b-43e6-e34c-271b282ce763",
        "colab": {
          "base_uri": "https://localhost:8080/",
          "height": 34
        }
      },
      "source": [
        "test_loss, test_acc = network.evaluate(test_images_transformed, test_labels_categorical)"
      ],
      "execution_count": 0,
      "outputs": [
        {
          "output_type": "stream",
          "text": [
            "10000/10000 [==============================] - 1s 54us/step\n"
          ],
          "name": "stdout"
        }
      ]
    },
    {
      "cell_type": "code",
      "metadata": {
        "id": "dGPMgGFyMd3V",
        "colab_type": "code",
        "outputId": "6b7cdbf3-36b0-4a5a-bc31-367f521b7716",
        "colab": {
          "base_uri": "https://localhost:8080/",
          "height": 34
        }
      },
      "source": [
        "test_loss, test_acc = newnetwork.evaluate(test_images_transformed, test_labels_categorical)"
      ],
      "execution_count": 0,
      "outputs": [
        {
          "output_type": "stream",
          "text": [
            "10000/10000 [==============================] - 0s 45us/step\n"
          ],
          "name": "stdout"
        }
      ]
    },
    {
      "cell_type": "code",
      "metadata": {
        "id": "2FYosxKly7ZL",
        "colab_type": "code",
        "outputId": "d13e64b0-b036-4f5d-e390-f3c37076b12d",
        "colab": {
          "base_uri": "https://localhost:8080/",
          "height": 34
        }
      },
      "source": [
        "print('test_acc; ', test_acc)"
      ],
      "execution_count": 0,
      "outputs": [
        {
          "output_type": "stream",
          "text": [
            "test_acc;  0.9827\n"
          ],
          "name": "stdout"
        }
      ]
    },
    {
      "cell_type": "code",
      "metadata": {
        "id": "Sez1i_Vqy7ZN",
        "colab_type": "code",
        "outputId": "3892144f-5c93-4421-b8dd-f4a438477547",
        "colab": {
          "base_uri": "https://localhost:8080/",
          "height": 34
        }
      },
      "source": [
        "print('test_acc; ', test_acc)"
      ],
      "execution_count": 0,
      "outputs": [
        {
          "output_type": "stream",
          "text": [
            "test_acc;  0.9085\n"
          ],
          "name": "stdout"
        }
      ]
    },
    {
      "cell_type": "code",
      "metadata": {
        "id": "Z1wjuxHrMhGG",
        "colab_type": "code",
        "colab": {}
      },
      "source": [
        ""
      ],
      "execution_count": 0,
      "outputs": []
    }
  ]
}